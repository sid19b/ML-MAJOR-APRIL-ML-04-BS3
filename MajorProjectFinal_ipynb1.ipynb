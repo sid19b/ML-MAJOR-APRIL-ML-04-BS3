{
  "nbformat": 4,
  "nbformat_minor": 0,
  "metadata": {
    "colab": {
      "name": " MajorProjectFinal.ipynb1",
      "provenance": [],
      "collapsed_sections": [],
      "include_colab_link": true
    },
    "kernelspec": {
      "name": "python3",
      "display_name": "Python 3"
    },
    "language_info": {
      "name": "python"
    }
  },
  "cells": [
    {
      "cell_type": "markdown",
      "metadata": {
        "id": "view-in-github",
        "colab_type": "text"
      },
      "source": [
        "<a href=\"https://colab.research.google.com/github/sid19b/Major-project/blob/main/MajorProjectFinal_ipynb1.ipynb\" target=\"_parent\"><img src=\"https://colab.research.google.com/assets/colab-badge.svg\" alt=\"Open In Colab\"/></a>"
      ]
    },
    {
      "cell_type": "code",
      "metadata": {
        "colab": {
          "base_uri": "https://localhost:8080/"
        },
        "id": "idHvcIlRFeQL",
        "outputId": "0b5cbd5d-f781-4c54-d215-0c24806a05ff"
      },
      "source": [
        "!pip install contractions --quiet\n",
        "!pip install streamlit --quiet\n",
        "!pip install pyngrok==4.1.1 --quiet"
      ],
      "execution_count": null,
      "outputs": [
        {
          "output_type": "stream",
          "text": [
            "\u001b[K     |████████████████████████████████| 286kB 10.2MB/s \n",
            "\u001b[K     |████████████████████████████████| 327kB 30.5MB/s \n",
            "\u001b[?25h  Building wheel for pyahocorasick (setup.py) ... \u001b[?25l\u001b[?25hdone\n",
            "\u001b[K     |████████████████████████████████| 7.8MB 6.2MB/s \n",
            "\u001b[K     |████████████████████████████████| 174kB 45.3MB/s \n",
            "\u001b[K     |████████████████████████████████| 112kB 56.4MB/s \n",
            "\u001b[K     |████████████████████████████████| 4.2MB 40.9MB/s \n",
            "\u001b[K     |████████████████████████████████| 81kB 9.6MB/s \n",
            "\u001b[K     |████████████████████████████████| 71kB 7.3MB/s \n",
            "\u001b[K     |████████████████████████████████| 122kB 42.0MB/s \n",
            "\u001b[?25h  Building wheel for blinker (setup.py) ... \u001b[?25l\u001b[?25hdone\n",
            "\u001b[31mERROR: google-colab 1.0.0 has requirement ipykernel~=4.10, but you'll have ipykernel 5.5.5 which is incompatible.\u001b[0m\n",
            "  Building wheel for pyngrok (setup.py) ... \u001b[?25l\u001b[?25hdone\n"
          ],
          "name": "stdout"
        }
      ]
    },
    {
      "cell_type": "code",
      "metadata": {
        "id": "6_d6YghdDVRx"
      },
      "source": [
        "#packages\n",
        "import pandas as pd\n",
        "import nltk\n",
        "import requests\n",
        "from bs4 import BeautifulSoup\n",
        "import contractions\n",
        "import re\n",
        "from nltk.tokenize.toktok import ToktokTokenizer\n",
        "from sklearn.model_selection import train_test_split\n",
        "from sklearn.feature_extraction.text import TfidfVectorizer\n",
        "from sklearn.svm import SVC\n",
        "from sklearn.metrics import confusion_matrix,accuracy_score,classification_report\n",
        "from sklearn.pipeline import Pipeline\n",
        "import joblib\n",
        "from pyngrok import ngrok"
      ],
      "execution_count": null,
      "outputs": []
    },
    {
      "cell_type": "code",
      "metadata": {
        "colab": {
          "base_uri": "https://localhost:8080/",
          "height": 204
        },
        "id": "RzlmnxxkT5Er",
        "outputId": "f6e8620a-15e0-48d6-d62f-50e39e1e803c"
      },
      "source": [
        "df= pd.read_csv('/content/IMDB Dataset.csv')\n",
        "df=df.iloc[:1000,:]\n",
        "df.head()"
      ],
      "execution_count": null,
      "outputs": [
        {
          "output_type": "execute_result",
          "data": {
            "text/html": [
              "<div>\n",
              "<style scoped>\n",
              "    .dataframe tbody tr th:only-of-type {\n",
              "        vertical-align: middle;\n",
              "    }\n",
              "\n",
              "    .dataframe tbody tr th {\n",
              "        vertical-align: top;\n",
              "    }\n",
              "\n",
              "    .dataframe thead th {\n",
              "        text-align: right;\n",
              "    }\n",
              "</style>\n",
              "<table border=\"1\" class=\"dataframe\">\n",
              "  <thead>\n",
              "    <tr style=\"text-align: right;\">\n",
              "      <th></th>\n",
              "      <th>review</th>\n",
              "      <th>sentiment</th>\n",
              "    </tr>\n",
              "  </thead>\n",
              "  <tbody>\n",
              "    <tr>\n",
              "      <th>0</th>\n",
              "      <td>One of the other reviewers has mentioned that ...</td>\n",
              "      <td>positive</td>\n",
              "    </tr>\n",
              "    <tr>\n",
              "      <th>1</th>\n",
              "      <td>A wonderful little production. &lt;br /&gt;&lt;br /&gt;The...</td>\n",
              "      <td>positive</td>\n",
              "    </tr>\n",
              "    <tr>\n",
              "      <th>2</th>\n",
              "      <td>I thought this was a wonderful way to spend ti...</td>\n",
              "      <td>positive</td>\n",
              "    </tr>\n",
              "    <tr>\n",
              "      <th>3</th>\n",
              "      <td>Basically there's a family where a little boy ...</td>\n",
              "      <td>negative</td>\n",
              "    </tr>\n",
              "    <tr>\n",
              "      <th>4</th>\n",
              "      <td>Petter Mattei's \"Love in the Time of Money\" is...</td>\n",
              "      <td>positive</td>\n",
              "    </tr>\n",
              "  </tbody>\n",
              "</table>\n",
              "</div>"
            ],
            "text/plain": [
              "                                              review sentiment\n",
              "0  One of the other reviewers has mentioned that ...  positive\n",
              "1  A wonderful little production. <br /><br />The...  positive\n",
              "2  I thought this was a wonderful way to spend ti...  positive\n",
              "3  Basically there's a family where a little boy ...  negative\n",
              "4  Petter Mattei's \"Love in the Time of Money\" is...  positive"
            ]
          },
          "metadata": {
            "tags": []
          },
          "execution_count": 4
        }
      ]
    },
    {
      "cell_type": "code",
      "metadata": {
        "colab": {
          "base_uri": "https://localhost:8080/"
        },
        "id": "NJoMym6RWOvy",
        "outputId": "6aa037ec-b2a2-4d34-c57f-d682159e4f49"
      },
      "source": [
        "nltk.download('stopwords')\n",
        "stopword_list = nltk.corpus.stopwords.words('english')\n",
        "stopword_list.remove('no')\n",
        "stopword_list.remove('not')\n",
        "len(stopword_list)"
      ],
      "execution_count": null,
      "outputs": [
        {
          "output_type": "stream",
          "text": [
            "[nltk_data] Downloading package stopwords to /root/nltk_data...\n",
            "[nltk_data]   Unzipping corpora/stopwords.zip.\n"
          ],
          "name": "stdout"
        },
        {
          "output_type": "execute_result",
          "data": {
            "text/plain": [
              "177"
            ]
          },
          "metadata": {
            "tags": []
          },
          "execution_count": 5
        }
      ]
    },
    {
      "cell_type": "code",
      "metadata": {
        "id": "tiLhXSBnUd9g"
      },
      "source": [
        "#HTML tag\n",
        "def html_tag(text):\n",
        "  soup = BeautifulSoup(text,\"html.parser\")\n",
        "  new_text = soup.get_text()\n",
        "  return new_text\n",
        "#Expand Contractions\n",
        "def con(text):\n",
        "  expand = contractions.fix(text)\n",
        "  return expand\n",
        "con(\"Y'all can't expand I'd think\")\n",
        "#Removing the special characters\n",
        "def remove_sp(text):\n",
        "  pattern = r'[^A-Za-z0-9\\s]'\n",
        "  text = re.sub(pattern,'',text)\n",
        "  return text\n",
        "#remove stopwords\n",
        "tokenizer = ToktokTokenizer()\n",
        "\n",
        "def remove_stopwords(text):\n",
        "  tokens = tokenizer.tokenize(text)\n",
        "  tokens = [token.strip() for token in tokens]\n",
        "  filtered_tokens = [token for token in tokens if token not in stopword_list] \n",
        "  filtered_text = ' '.join(filtered_tokens)\n",
        "  return filtered_text\n"
      ],
      "execution_count": null,
      "outputs": []
    },
    {
      "cell_type": "code",
      "metadata": {
        "id": "RNezFd4MUs5v"
      },
      "source": [
        "df.review = df.review.apply(lambda x:x.lower())\n",
        "df.review = df.review.apply(html_tag)\n",
        "df.review = df.review.apply(con)\n",
        "df.review = df.review.apply(remove_sp)\n",
        "df.review = df.review.apply(remove_stopwords)"
      ],
      "execution_count": null,
      "outputs": []
    },
    {
      "cell_type": "code",
      "metadata": {
        "colab": {
          "base_uri": "https://localhost:8080/"
        },
        "id": "QKaO5Irx_QjV",
        "outputId": "459a7f78-0019-4427-d880-333433b5f132"
      },
      "source": [
        "df.head"
      ],
      "execution_count": null,
      "outputs": [
        {
          "output_type": "execute_result",
          "data": {
            "text/plain": [
              "<bound method NDFrame.head of                                                 review sentiment\n",
              "0    one reviewers mentioned watching 1 oz episode ...  positive\n",
              "1    wonderful little production filming technique ...  positive\n",
              "2    thought wonderful way spend time hot summer we...  positive\n",
              "3    basically family little boy jake thinks zombie...  negative\n",
              "4    petter matteis love time money visually stunni...  positive\n",
              "..                                                 ...       ...\n",
              "994  watching film amazed media perception mould pe...  positive\n",
              "995  nothing sacred ask ernie fosselius days everyb...  positive\n",
              "996  hated hate selfaware pretentious inanity masqu...  negative\n",
              "997  usually try professional constructive criticiz...  negative\n",
              "998  like going see film history class something li...  negative\n",
              "\n",
              "[999 rows x 2 columns]>"
            ]
          },
          "metadata": {
            "tags": []
          },
          "execution_count": 8
        }
      ]
    },
    {
      "cell_type": "code",
      "metadata": {
        "id": "XuUuWmgzVYeJ"
      },
      "source": [
        "x=df['review'].values\n",
        "y=df['sentiment'].values\n"
      ],
      "execution_count": null,
      "outputs": []
    },
    {
      "cell_type": "code",
      "metadata": {
        "colab": {
          "base_uri": "https://localhost:8080/",
          "height": 316
        },
        "id": "VHouOF-XKKbt",
        "outputId": "fc42a190-3823-45a9-c458-245723b6ad75"
      },
      "source": [
        "df['sentiment'].value_counts().plot(kind='bar')"
      ],
      "execution_count": null,
      "outputs": [
        {
          "output_type": "execute_result",
          "data": {
            "text/plain": [
              "<matplotlib.axes._subplots.AxesSubplot at 0x7f0c7c1f0310>"
            ]
          },
          "metadata": {
            "tags": []
          },
          "execution_count": 11
        },
        {
          "output_type": "display_data",
          "data": {
            "image/png": "[encoded data removed]",
            "text/plain": [
              "<Figure size 432x288 with 1 Axes>"
            ]
          },
          "metadata": {
            "tags": [],
            "needs_background": "light"
          }
        }
      ]
    },
    {
      "cell_type": "code",
      "metadata": {
        "id": "PCburG0TVnJU"
      },
      "source": [
        "x_train,x_test,y_train,y_test = train_test_split(x,y,random_state=0)"
      ],
      "execution_count": null,
      "outputs": []
    },
    {
      "cell_type": "code",
      "metadata": {
        "colab": {
          "base_uri": "https://localhost:8080/"
        },
        "id": "X3Cqza9hALKY",
        "outputId": "7e207103-8e5e-46ff-c002-19c7e67c600a"
      },
      "source": [
        "print(x_train.shape)\n",
        "print(x_test.shape)"
      ],
      "execution_count": null,
      "outputs": [
        {
          "output_type": "stream",
          "text": [
            "(749,)\n",
            "(250,)\n"
          ],
          "name": "stdout"
        }
      ]
    },
    {
      "cell_type": "code",
      "metadata": {
        "id": "EuEF9U88A7Co"
      },
      "source": [
        "vect = TfidfVectorizer()\n",
        "x_train_v = vect.fit_transform(x_train)\n",
        "x_test_v = vect.transform(x_test)"
      ],
      "execution_count": null,
      "outputs": []
    },
    {
      "cell_type": "code",
      "metadata": {
        "id": "H4jk5pG5BLNF",
        "colab": {
          "base_uri": "https://localhost:8080/"
        },
        "outputId": "656ae72b-58b8-4978-fe29-d5b467f398ed"
      },
      "source": [
        "model = SVC()\n",
        "model.fit(x_train_v,y_train)\n",
        "y_pred = model.predict(x_test_v)\n",
        "y_pred"
      ],
      "execution_count": null,
      "outputs": [
        {
          "output_type": "execute_result",
          "data": {
            "text/plain": [
              "array(['positive', 'negative', 'positive', 'negative', 'negative',\n",
              "       'positive', 'positive', 'negative', 'positive', 'positive',\n",
              "       'negative', 'negative', 'negative', 'positive', 'negative',\n",
              "       'positive', 'negative', 'positive', 'negative', 'negative',\n",
              "       'negative', 'negative', 'positive', 'positive', 'negative',\n",
              "       'positive', 'negative', 'negative', 'negative', 'negative',\n",
              "       'positive', 'negative', 'negative', 'negative', 'positive',\n",
              "       'positive', 'negative', 'negative', 'negative', 'negative',\n",
              "       'negative', 'positive', 'negative', 'positive', 'negative',\n",
              "       'positive', 'positive', 'positive', 'positive', 'positive',\n",
              "       'negative', 'negative', 'positive', 'positive', 'positive',\n",
              "       'positive', 'positive', 'positive', 'positive', 'negative',\n",
              "       'positive', 'positive', 'positive', 'negative', 'positive',\n",
              "       'positive', 'negative', 'positive', 'positive', 'negative',\n",
              "       'negative', 'positive', 'positive', 'positive', 'positive',\n",
              "       'negative', 'negative', 'positive', 'positive', 'positive',\n",
              "       'negative', 'negative', 'positive', 'positive', 'positive',\n",
              "       'negative', 'negative', 'positive', 'positive', 'positive',\n",
              "       'positive', 'positive', 'positive', 'positive', 'positive',\n",
              "       'negative', 'negative', 'positive', 'negative', 'positive',\n",
              "       'positive', 'negative', 'positive', 'negative', 'positive',\n",
              "       'positive', 'negative', 'negative', 'positive', 'negative',\n",
              "       'positive', 'negative', 'negative', 'negative', 'positive',\n",
              "       'positive', 'negative', 'positive', 'negative', 'negative',\n",
              "       'negative', 'negative', 'positive', 'negative', 'positive',\n",
              "       'positive', 'positive', 'positive', 'positive', 'negative',\n",
              "       'positive', 'negative', 'positive', 'negative', 'negative',\n",
              "       'positive', 'positive', 'negative', 'negative', 'negative',\n",
              "       'positive', 'negative', 'negative', 'negative', 'positive',\n",
              "       'positive', 'negative', 'negative', 'positive', 'negative',\n",
              "       'positive', 'positive', 'positive', 'positive', 'negative',\n",
              "       'positive', 'negative', 'negative', 'negative', 'positive',\n",
              "       'positive', 'negative', 'negative', 'positive', 'positive',\n",
              "       'negative', 'negative', 'negative', 'positive', 'negative',\n",
              "       'positive', 'positive', 'negative', 'positive', 'positive',\n",
              "       'negative', 'negative', 'positive', 'negative', 'negative',\n",
              "       'negative', 'negative', 'positive', 'positive', 'positive',\n",
              "       'positive', 'negative', 'negative', 'positive', 'positive',\n",
              "       'negative', 'positive', 'negative', 'negative', 'negative',\n",
              "       'positive', 'positive', 'negative', 'positive', 'positive',\n",
              "       'negative', 'positive', 'positive', 'positive', 'positive',\n",
              "       'negative', 'positive', 'positive', 'negative', 'positive',\n",
              "       'positive', 'positive', 'positive', 'positive', 'negative',\n",
              "       'positive', 'positive', 'negative', 'positive', 'negative',\n",
              "       'negative', 'negative', 'positive', 'positive', 'negative',\n",
              "       'negative', 'positive', 'positive', 'negative', 'positive',\n",
              "       'positive', 'negative', 'positive', 'negative', 'positive',\n",
              "       'negative', 'positive', 'negative', 'positive', 'positive',\n",
              "       'positive', 'positive', 'negative', 'negative', 'negative',\n",
              "       'positive', 'negative', 'positive', 'positive', 'positive'],\n",
              "      dtype=object)"
            ]
          },
          "metadata": {
            "tags": []
          },
          "execution_count": 15
        }
      ]
    },
    {
      "cell_type": "code",
      "metadata": {
        "colab": {
          "base_uri": "https://localhost:8080/"
        },
        "id": "VLJbOR3Am8Dv",
        "outputId": "cdad5f5c-1ed5-4f83-c507-09e3e13b817e"
      },
      "source": [
        "accuracy_score(y_pred,y_test)"
      ],
      "execution_count": null,
      "outputs": [
        {
          "output_type": "execute_result",
          "data": {
            "text/plain": [
              "0.816"
            ]
          },
          "metadata": {
            "tags": []
          },
          "execution_count": 18
        }
      ]
    },
    {
      "cell_type": "code",
      "metadata": {
        "colab": {
          "base_uri": "https://localhost:8080/"
        },
        "id": "nX8w20vKn4fK",
        "outputId": "f2eb9fe6-50d3-4fca-8826-9d5344a08ae3"
      },
      "source": [
        "confusion_matrix(y_pred,y_test)"
      ],
      "execution_count": null,
      "outputs": [
        {
          "output_type": "execute_result",
          "data": {
            "text/plain": [
              "array([[ 98,  16],\n",
              "       [ 30, 106]])"
            ]
          },
          "metadata": {
            "tags": []
          },
          "execution_count": 19
        }
      ]
    },
    {
      "cell_type": "code",
      "metadata": {
        "colab": {
          "base_uri": "https://localhost:8080/"
        },
        "id": "b8KH-FKFoB77",
        "outputId": "4862b42c-01d2-4f7e-bb96-cf2db63bcd74"
      },
      "source": [
        "print(classification_report(y_pred,y_test))"
      ],
      "execution_count": null,
      "outputs": [
        {
          "output_type": "stream",
          "text": [
            "              precision    recall  f1-score   support\n",
            "\n",
            "    negative       0.77      0.86      0.81       114\n",
            "    positive       0.87      0.78      0.82       136\n",
            "\n",
            "    accuracy                           0.82       250\n",
            "   macro avg       0.82      0.82      0.82       250\n",
            "weighted avg       0.82      0.82      0.82       250\n",
            "\n"
          ],
          "name": "stdout"
        }
      ]
    },
    {
      "cell_type": "code",
      "metadata": {
        "colab": {
          "base_uri": "https://localhost:8080/",
          "height": 72
        },
        "id": "vX7ys3fNBkdl",
        "outputId": "9709c4a6-8527-4376-ff44-21fa841bd06f"
      },
      "source": [
        "# Evaluating for a specific message\n",
        "text = df['review'][10]\n",
        "print(text)\n",
        "df['sentiment'][10]"
      ],
      "execution_count": null,
      "outputs": [
        {
          "output_type": "stream",
          "text": [
            "phil alien one quirky films humour based around oddness everything rather actual punchlinesat first odd pretty funny movie progressed not find jokes oddness funny anymoreits low budget film never problem pretty interesting characters eventually lost interesti imagine film would appeal stoner currently partakingfor something similar better try brother another planet\n"
          ],
          "name": "stdout"
        },
        {
          "output_type": "execute_result",
          "data": {
            "application/vnd.google.colaboratory.intrinsic+json": {
              "type": "string"
            },
            "text/plain": [
              "'negative'"
            ]
          },
          "metadata": {
            "tags": []
          },
          "execution_count": 21
        }
      ]
    },
    {
      "cell_type": "code",
      "metadata": {
        "colab": {
          "base_uri": "https://localhost:8080/"
        },
        "id": "V2a6hNQqCI7_",
        "outputId": "5942fde4-e6c3-4b65-a00a-081bb853b1fe"
      },
      "source": [
        "text=vect.transform([text])\n",
        "model.predict(text)"
      ],
      "execution_count": null,
      "outputs": [
        {
          "output_type": "execute_result",
          "data": {
            "text/plain": [
              "array(['negative'], dtype=object)"
            ]
          },
          "metadata": {
            "tags": []
          },
          "execution_count": 22
        }
      ]
    },
    {
      "cell_type": "code",
      "metadata": {
        "id": "C87lM1qAoSa3"
      },
      "source": [
        "text_model = Pipeline([('vect',TfidfVectorizer()),('model',SVC())])"
      ],
      "execution_count": null,
      "outputs": []
    },
    {
      "cell_type": "code",
      "metadata": {
        "id": "nlMfSArsp6kQ",
        "colab": {
          "base_uri": "https://localhost:8080/"
        },
        "outputId": "8b9b5c50-6038-482b-e5c0-d450df905ab7"
      },
      "source": [
        "text_model.fit(x_train,y_train)"
      ],
      "execution_count": null,
      "outputs": [
        {
          "output_type": "execute_result",
          "data": {
            "text/plain": [
              "Pipeline(memory=None,\n",
              "         steps=[('vect',\n",
              "                 TfidfVectorizer(analyzer='word', binary=False,\n",
              "                                 decode_error='strict',\n",
              "                                 dtype=<class 'numpy.float64'>,\n",
              "                                 encoding='utf-8', input='content',\n",
              "                                 lowercase=True, max_df=1.0, max_features=None,\n",
              "                                 min_df=1, ngram_range=(1, 1), norm='l2',\n",
              "                                 preprocessor=None, smooth_idf=True,\n",
              "                                 stop_words=None, strip_accents=None,\n",
              "                                 sublinear_tf=False,\n",
              "                                 token_pattern='(?u)\\\\b\\\\w\\\\w+\\\\b',\n",
              "                                 tokenizer=None, use_idf=True,\n",
              "                                 vocabulary=None)),\n",
              "                ('model',\n",
              "                 SVC(C=1.0, break_ties=False, cache_size=200, class_weight=None,\n",
              "                     coef0=0.0, decision_function_shape='ovr', degree=3,\n",
              "                     gamma='scale', kernel='rbf', max_iter=-1,\n",
              "                     probability=False, random_state=None, shrinking=True,\n",
              "                     tol=0.001, verbose=False))],\n",
              "         verbose=False)"
            ]
          },
          "metadata": {
            "tags": []
          },
          "execution_count": 24
        }
      ]
    },
    {
      "cell_type": "code",
      "metadata": {
        "id": "6Ucu4tTiCfpX"
      },
      "source": [
        "y_pred=text_model.predict(x_test)"
      ],
      "execution_count": null,
      "outputs": []
    },
    {
      "cell_type": "code",
      "metadata": {
        "colab": {
          "base_uri": "https://localhost:8080/"
        },
        "id": "hQQRN91XCsn1",
        "outputId": "62cd1a25-2b7a-4722-c541-84114a6238f8"
      },
      "source": [
        "# Evaluating for a specific message\n",
        "text = df['review'][10]\n",
        "text_model.predict([text])"
      ],
      "execution_count": null,
      "outputs": [
        {
          "output_type": "execute_result",
          "data": {
            "text/plain": [
              "array(['negative'], dtype=object)"
            ]
          },
          "metadata": {
            "tags": []
          },
          "execution_count": 28
        }
      ]
    },
    {
      "cell_type": "code",
      "metadata": {
        "colab": {
          "base_uri": "https://localhost:8080/"
        },
        "id": "eGuOa-9YCw9b",
        "outputId": "1b489d82-52dc-4663-8650-c30934579c9f"
      },
      "source": [
        "joblib.dump(text_model,'sentiment_analyzer')"
      ],
      "execution_count": null,
      "outputs": [
        {
          "output_type": "execute_result",
          "data": {
            "text/plain": [
              "['sentiment_analyzer']"
            ]
          },
          "metadata": {
            "tags": []
          },
          "execution_count": 29
        }
      ]
    },
    {
      "cell_type": "code",
      "metadata": {
        "colab": {
          "base_uri": "https://localhost:8080/"
        },
        "id": "PfRPLGFPJgUi",
        "outputId": "3d7f2538-c580-4db2-dfd8-41fd8c22561c"
      },
      "source": [
        "%%writefile app.py\n",
        "import streamlit as st\n",
        "import joblib \n",
        "model=joblib.load('sentiment_analyzer')\n",
        "st.title('Sentiment Analyzer')\n",
        "ip = st.text_input(\"Enter the Review\")\n",
        "op = model.predict([ip])\n",
        "if st.button('Predict'):\n",
        "  st.title(op[0])"
      ],
      "execution_count": null,
      "outputs": [
        {
          "output_type": "stream",
          "text": [
            "Writing app.py\n"
          ],
          "name": "stdout"
        }
      ]
    },
    {
      "cell_type": "code",
      "metadata": {
        "colab": {
          "base_uri": "https://localhost:8080/"
        },
        "id": "sN5rRb2QJOa6",
        "outputId": "9d59d1a0-5ff1-4e0a-e06a-72e19692c2e3"
      },
      "source": [
        "!nohup streamlit run app.py &\n",
        "url = ngrok.connect(port='8501')\n",
        "print(url)"
      ],
      "execution_count": null,
      "outputs": [
        {
          "output_type": "stream",
          "text": [
            "nohup: appending output to 'nohup.out'\n",
            "http://7cfc3e120fc3.ngrok.io\n"
          ],
          "name": "stdout"
        }
      ]
    },
    {
      "cell_type": "code",
      "metadata": {
        "colab": {
          "base_uri": "https://localhost:8080/"
        },
        "id": "wCmQHaEZpUb6",
        "outputId": "2e3e909c-50de-4ac7-fd91-f0aa75e51f6c"
      },
      "source": [
        "import nltk\n",
        "import sklearn\n",
        "\n",
        "print('The nltk version is {}'.format(joblib.__version__))\n",
        "print('The scikit-learn version is {}'.format(sklearn.__version__))\n"
      ],
      "execution_count": null,
      "outputs": [
        {
          "output_type": "stream",
          "text": [
            "The nltk version is 1.0.1\n",
            "The scikit-learn version is 0.22.2.post1\n"
          ],
          "name": "stdout"
        }
      ]
    },
    {
      "cell_type": "code",
      "metadata": {
        "id": "70MW_2etqk-h"
      },
      "source": [
        ""
      ],
      "execution_count": null,
      "outputs": []
    }
  ]
}